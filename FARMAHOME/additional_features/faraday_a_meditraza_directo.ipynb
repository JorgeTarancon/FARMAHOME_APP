{
 "cells": [
  {
   "cell_type": "code",
   "execution_count": 2,
   "metadata": {},
   "outputs": [],
   "source": [
    "'''\n",
    "Lo que hacemos aqui es:\n",
    "    - Leer un xlsx.\n",
    "    - Convertir la fecha a string para que no haya ninguna incoherencia al convertir el df a json.\n",
    "    - Enviar el df como json a PythonAnyWhere.\n",
    "Despues se puede leer el archivo en PythonAnyWhere, convertir la fecha a datetime de nuevo e introducir los datos en la bbdd.\n",
    "'''\n",
    "\n",
    "import requests\n",
    "import pandas as pd\n",
    "\n",
    "username = 'jorgetaran'\n",
    "api_token = 'b5e69dcb74e3c7eb9c58374368e1e9cbf6e456aa'\n",
    "domain_name = f\"{username}.pythonanywhere.com\"\n",
    "path = 'home/jorgetaran/FARMAHOME_APP/FARMAHOME/assets/borrar.txt'\n",
    "\n",
    "df = pd.read_excel('C:/Users/05954069J/Downloads/26_06_2023.xlsx')\n",
    "\n",
    "df['CITA'] = df['CITA'].dt.strftime('%Y-%m%-d %H:%M:%S')\n",
    "\n",
    "response = requests.post(\n",
    "                        f'https://www.pythonanywhere.com/api/v0/user/{username}/files/path/{path}',\n",
    "                        files={'content': df.to_json()},\n",
    "                        headers={'Authorization': f'Token {api_token}'})\n",
    "\n",
    "if response.status_code == 200 or response.status_code == 201: print('bien')\n",
    "else: print(response)"
   ]
  }
 ],
 "metadata": {
  "kernelspec": {
   "display_name": "environment_django",
   "language": "python",
   "name": "python3"
  },
  "language_info": {
   "codemirror_mode": {
    "name": "ipython",
    "version": 3
   },
   "file_extension": ".py",
   "mimetype": "text/x-python",
   "name": "python",
   "nbconvert_exporter": "python",
   "pygments_lexer": "ipython3",
   "version": "3.8.5"
  },
  "orig_nbformat": 4
 },
 "nbformat": 4,
 "nbformat_minor": 2
}
